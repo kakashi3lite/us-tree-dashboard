{
 "cells": [
  {
   "cell_type": "markdown",
   "id": "3aa4e779",
   "metadata": {},
   "source": [
    "# GDAL Installation Test\n",
    "\n",
    "This notebook verifies that GDAL is properly installed and functional in the environment."
   ]
  },
  {
   "cell_type": "code",
   "execution_count": null,
   "id": "36fca041",
   "metadata": {},
   "outputs": [],
   "source": [
    "# Import GDAL and check version\n",
    "from osgeo import gdal\n",
    "print(f\"GDAL Version: {gdal.__version__}\")\n",
    "\n",
    "# Get GDAL driver information\n",
    "driver_count = gdal.GetDriverCount()\n",
    "print(f\"\\nAvailable GDAL drivers: {driver_count}\")\n",
    "\n",
    "# List first few drivers\n",
    "print(\"\\nSample drivers:\")\n",
    "for i in range(min(5, driver_count)):\n",
    "    driver = gdal.GetDriver(i)\n",
    "    print(f\"  - {driver.ShortName}: {driver.LongName}\")"
   ]
  }
 ],
 "metadata": {
  "language_info": {
   "name": "python"
  }
 },
 "nbformat": 4,
 "nbformat_minor": 5
}
