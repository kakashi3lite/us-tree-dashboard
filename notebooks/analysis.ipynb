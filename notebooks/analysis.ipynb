{
 "cells": [
  {
   "cell_type": "markdown",
   "id": "9a6e8a0c",
   "metadata": {},
   "source": [
    "# US Tree Data Analysis\n",
    "\n",
    "This notebook provides in-depth analysis of tree distribution, health, and environmental impact across the United States. The insights generated here will be integrated into our interactive dashboard."
   ]
  },
  {
   "cell_type": "code",
   "execution_count": null,
   "id": "7a94948c",
   "metadata": {},
   "outputs": [],
   "source": [
    "import os\n",
    "import numpy as np\n",
    "import pandas as pd\n",
    "import geopandas as gpd\n",
    "import plotly.express as px\n",
    "import plotly.graph_objects as go\n",
    "from osgeo import gdal\n",
    "from pathlib import Path\n",
    "\n",
    "# Setup notebook display options\n",
    "pd.set_option('display.max_columns', None)\n",
    "pd.set_option('display.max_rows', 50)"
   ]
  },
  {
   "cell_type": "code",
   "execution_count": null,
   "id": "a95b5d09",
   "metadata": {},
   "outputs": [],
   "source": [
    "from src.ml_utils import TreeHealthPredictor, TreeGrowthForecaster, calculate_environmental_impact"
   ]
  },
  {
   "cell_type": "markdown",
   "id": "3c4fccea",
   "metadata": {},
   "source": [
    "## Data Loading and Preprocessing\n",
    "\n",
    "We'll load our tree data and perform initial preprocessing steps to prepare for analysis."
   ]
  },
  {
   "cell_type": "code",
   "execution_count": null,
   "id": "587b431b",
   "metadata": {},
   "outputs": [],
   "source": [
    "# Load sample data (replace with actual data when available)\n",
    "def create_sample_data():\n",
    "    # Create sample tree data\n",
    "    df_trees = pd.DataFrame({\n",
    "        'state': np.random.choice(['CA', 'NY', 'TX'], 1000),\n",
    "        'city': np.random.choice(['Los Angeles', 'New York', 'Austin'], 1000),\n",
    "        'species': np.random.choice(['Oak', 'Maple', 'Pine'], 1000),\n",
    "        'health': np.random.choice(['Good', 'Fair', 'Poor'], 1000),\n",
    "        'dbh': np.random.normal(30, 10, 1000),  # Diameter at breast height\n",
    "        'height': np.random.normal(50, 15, 1000),\n",
    "        'lat': np.random.uniform(25, 49, 1000),\n",
    "        'lon': np.random.uniform(-125, -70, 1000)\n",
    "    })\n",
    "    \n",
    "    # Create sample canopy coverage data\n",
    "    df_canopy = pd.DataFrame({\n",
    "        'state': np.random.choice(['CA', 'NY', 'TX'], 100),\n",
    "        'county': [f'County_{i}' for i in range(100)],\n",
    "        'canopy_pct': np.random.uniform(10, 60, 100)\n",
    "    })\n",
    "    \n",
    "    return df_trees, df_canopy\n",
    "\n",
    "# Load the data\n",
    "df_trees, df_canopy = create_sample_data()\n",
    "\n",
    "# Display basic information\n",
    "print('Tree Dataset Info:')\n",
    "print(df_trees.info())\n",
    "print('\\nCanopy Dataset Info:')\n",
    "print(df_canopy.info())"
   ]
  },
  {
   "cell_type": "markdown",
   "id": "009f4f05",
   "metadata": {},
   "source": [
    "## Geographic Distribution Analysis\n",
    "\n",
    "Let's analyze the geographic distribution of trees and canopy coverage across different states and cities."
   ]
  },
  {
   "cell_type": "code",
   "execution_count": null,
   "id": "d7b1c25b",
   "metadata": {},
   "outputs": [],
   "source": [
    "# Create a map of tree locations\n",
    "fig = px.scatter_mapbox(df_trees,\n",
    "                        lat='lat',\n",
    "                        lon='lon',\n",
    "                        color='species',\n",
    "                        hover_data=['health', 'dbh', 'height'],\n",
    "                        zoom=3,\n",
    "                        title='Tree Distribution Map')\n",
    "\n",
    "fig.update_layout(mapbox_style='carto-positron')\n",
    "fig.show()\n",
    "\n",
    "# Analyze state-level statistics\n",
    "state_stats = df_trees.groupby('state').agg({\n",
    "    'species': 'count',\n",
    "    'dbh': 'mean',\n",
    "    'height': 'mean'\n",
    "}).round(2)\n",
    "\n",
    "print('\\nState-level Statistics:')\n",
    "print(state_stats)"
   ]
  },
  {
   "cell_type": "markdown",
   "id": "2135ede3",
   "metadata": {},
   "source": [
    "## Species Diversity Analysis\n",
    "\n",
    "Analyzing tree species distribution and diversity indices across different regions."
   ]
  },
  {
   "cell_type": "code",
   "execution_count": null,
   "id": "442b0dcb",
   "metadata": {},
   "outputs": [],
   "source": [
    "# Calculate species diversity by state\n",
    "def calculate_diversity_index(data):\n",
    "    species_counts = data['species'].value_counts()\n",
    "    proportions = species_counts / len(data)\n",
    "    shannon_diversity = -np.sum(proportions * np.log(proportions))\n",
    "    return shannon_diversity\n",
    "\n",
    "diversity_by_state = df_trees.groupby('state').apply(calculate_diversity_index)\n",
    "\n",
    "# Create species distribution visualization\n",
    "fig = px.sunburst(df_trees,\n",
    "                  path=['state', 'species'],\n",
    "                  title='Tree Species Distribution by State')\n",
    "fig.show()\n",
    "\n",
    "print('\\nShannon Diversity Index by State:')\n",
    "print(diversity_by_state)"
   ]
  },
  {
   "cell_type": "markdown",
   "id": "4dc5afdf",
   "metadata": {},
   "source": [
    "## Tree Health Assessment\n",
    "\n",
    "Analyzing tree health conditions and identifying patterns or concerns."
   ]
  },
  {
   "cell_type": "code",
   "execution_count": null,
   "id": "7326e788",
   "metadata": {},
   "outputs": [],
   "source": [
    "# Analyze health distribution\n",
    "health_by_species = pd.crosstab(df_trees['species'], df_trees['health'])\n",
    "\n",
    "# Create health distribution visualization\n",
    "fig = px.bar(df_trees,\n",
    "             x='species',\n",
    "             color='health',\n",
    "             title='Tree Health Distribution by Species',\n",
    "             barmode='group')\n",
    "fig.show()\n",
    "\n",
    "# Calculate health metrics\n",
    "health_metrics = df_trees.groupby('state').agg({\n",
    "    'health': lambda x: (x == 'Good').mean() * 100\n",
    "}).round(2)\n",
    "health_metrics.columns = ['Healthy Trees %']\n",
    "\n",
    "print('\\nHealth Metrics by State:')\n",
    "print(health_metrics)"
   ]
  },
  {
   "cell_type": "markdown",
   "id": "54a462c6",
   "metadata": {},
   "source": [
    "## Machine Learning Analysis\n",
    "\n",
    "Let's use our ML utilities to predict tree health and forecast growth patterns."
   ]
  },
  {
   "cell_type": "code",
   "execution_count": null,
   "id": "3798b42e",
   "metadata": {},
   "outputs": [],
   "source": [
    "# Initialize and train health predictor\n",
    "health_predictor = TreeHealthPredictor()\n",
    "metrics = health_predictor.train(df_trees)\n",
    "\n",
    "print('Health Prediction Model Performance:')\n",
    "print(f'Accuracy: {metrics[\"accuracy\"]:.2f}')\n",
    "print(f'F1 Score: {metrics[\"f1_score\"]:.2f}')\n",
    "\n",
    "# Predict health for new trees\n",
    "sample_trees = df_trees.sample(5)\n",
    "predicted_health = health_predictor.predict(sample_trees)\n",
    "\n",
    "print('\\nSample Health Predictions:')\n",
    "for i, (_, tree) in enumerate(sample_trees.iterrows()):\n",
    "    print(f'Tree {i+1} - Predicted Health: {predicted_health[i]}')"
   ]
  },
  {
   "cell_type": "code",
   "execution_count": null,
   "id": "ea6fd6eb",
   "metadata": {},
   "outputs": [],
   "source": [
    "# Initialize and train growth forecaster\n",
    "growth_forecaster = TreeGrowthForecaster()\n",
    "metrics = growth_forecaster.train(df_trees)\n",
    "\n",
    "print('\\nGrowth Forecasting Model Performance:')\n",
    "print(f'R² Score: {metrics[\"r2_score\"]:.2f}')\n",
    "print(f'RMSE: {metrics[\"rmse\"]:.2f}')\n",
    "\n",
    "# Forecast growth for sample trees\n",
    "growth_forecast = growth_forecaster.forecast(sample_trees)\n",
    "\n",
    "print('\\nGrowth Forecasts (DBH in cm):')\n",
    "print(growth_forecast)"
   ]
  },
  {
   "cell_type": "markdown",
   "id": "3d8820b3",
   "metadata": {},
   "source": [
    "## Environmental Impact Analysis\n",
    "\n",
    "Analyze the environmental benefits of the tree population."
   ]
  },
  {
   "cell_type": "code",
   "execution_count": null,
   "id": "269dbd55",
   "metadata": {},
   "outputs": [],
   "source": [
    "# Calculate environmental impact\n",
    "impact_metrics = calculate_environmental_impact(df_trees)\n",
    "\n",
    "print('Environmental Impact Metrics (Annual):')\n",
    "for metric, value in impact_metrics.items():\n",
    "    print(f'{metric.replace(\"_\", \" \").title()}: {value:,.0f}')\n",
    "\n",
    "# Visualize impact metrics\n",
    "fig = px.bar(x=list(impact_metrics.keys()),\n",
    "            y=list(impact_metrics.values()),\n",
    "            title='Annual Environmental Impact')\n",
    "fig.update_layout(xaxis_title='Metric',\n",
    "                  yaxis_title='Value',\n",
    "                  xaxis_tickangle=45)\n",
    "fig.show()"
   ]
  }
 ],
 "metadata": {
  "language_info": {
   "name": "python"
  }
 },
 "nbformat": 4,
 "nbformat_minor": 5
}
